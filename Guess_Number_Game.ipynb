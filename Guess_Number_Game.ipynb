{
  "cells": [
    {
      "cell_type": "markdown",
      "metadata": {
        "id": "WkXP5sKxtlSR"
      },
      "source": [
        "Program ini adalah program permainan tebak angka.\n",
        "Idenya adalah pemain menginput digit angka, lalu program akan mengacak angka sesuai digit yang diinput dan memasukan salah satu angka acak itu ke dalam suatu variabel. Selanjutnya pemain diminta untuk menebak angka yang disimpan oleh program. Program akan memberitahu berapa banyak angka benar atau posisinya benar yang tertebak. Program terus berjalan hingga batas kesempatan menjawab habis, atau angka berhasil tertebak. Jika angka tertebak, program akan mengeluarkan output jumlah percobaan selama menebak.\n",
        "Algoritmanya:\n",
        "1. Menginput banyaknya digit yang ingin di random.\n",
        "2. Menginput banyaknya kesempatan menjawab yang diinginkan.\n",
        "3. Membuat list 'angka' yang berisi string dari angka 0 sampai 10000 dalam program ini.\n",
        "4. Menggunakan kondisi bersyarat if untuk digit yang diinput (pada program ini maksimal 4 digit).\n",
        "5. Gunakan syntax random.randint untuk mengacak angka berdasarkan range dari digit masing-masing.\n",
        "6. Gunakan syntax .pop() untuk menghapus elemen dari list 'angka' berupa satu angka hasil dari random.\n",
        "7. Masukkan satu angka hasil random yang dihapus dari list 'angka' tadi ke dalam variabel 'acak'.\n",
        "8. Input tebakan\n",
        "9. Tambahkan nilai 1 pada variabel 'benar' jika terdapat elemen yang benar.\n",
        "10. Tambahkan nilai 1 pada variabel 'posisi' jika posisi suatu elemen benar.\n",
        "11. Jika tebakan sudah sama dengan angka pada variabel 'acak' permainan selesai, keluar dari loop.\n",
        "12. Jika variabel 'nyawa' = 0 permainan berakhir karena kesempatan menjawab sudah habis"
      ]
    },
    {
      "cell_type": "code",
      "execution_count": null,
      "metadata": {
        "id": "IpzzYi3ftlSZ",
        "outputId": "df1c6185-b094-44c8-b155-ee6a916a9eb1"
      },
      "outputs": [
        {
          "name": "stdout",
          "output_type": "stream",
          "text": [
            "Masukan jumlah digit: 2\n",
            "Masukan batas nyawa: 10\n",
            " \n",
            "Masukkan 2 digit angka : 12\n",
            "0 angka benar, 0 angka di posisi yang benar\n",
            "Sisa nyawa:  9\n",
            " \n",
            "Masukkan 2 digit angka : 23\n",
            "0 angka benar, 0 angka di posisi yang benar\n",
            "Sisa nyawa:  8\n",
            " \n",
            "Masukkan 2 digit angka : 34\n",
            "0 angka benar, 0 angka di posisi yang benar\n",
            "Sisa nyawa:  7\n",
            " \n",
            "Masukkan 2 digit angka : 45\n",
            "0 angka benar, 0 angka di posisi yang benar\n",
            "Sisa nyawa:  6\n",
            " \n",
            "Masukkan 2 digit angka : 56\n",
            "1 angka benar, 0 angka di posisi yang benar\n",
            "Sisa nyawa:  5\n",
            " \n",
            "Masukkan 2 digit angka : 67\n",
            "2 angka benar, 2 angka di posisi yang benar\n",
            "Sisa nyawa:  4\n",
            " \n",
            "Selamat tebakanmu benar!\n",
            "Kamu selesai dalam 6 percobaan\n"
          ]
        }
      ],
      "source": [
        "import random #memanggil module random untuk meminta angka secara acak\n",
        "\n",
        "digit = int(input('Masukan jumlah digit: ')) #input banyaknya digit\n",
        "batas_nyawa = int(input('Masukan batas nyawa: ')) #input banyaknya kesempatan menjawab\n",
        "print(' ')\n",
        "angka = [str(i) for i in range(0,10000)] #list yang berisi string i yang terdiri dari angka 0 sampai 9999\n",
        "percobaan = 0 #inisialisasi variabel banyaknya 'percobaan'\n",
        "\n",
        "for i in range(digit):\n",
        "    if digit == 4: #kondisi bersyarat if jika input variabel 'digit' = 4\n",
        "        acak = angka.pop(random.randint(1000,10000)) #merandom dari 1000 sampai 9999 dan menghapus dari elemen di list angka\n",
        "    elif digit == 3: #kondisi bersyarat if jika input variabel 'digit' = 3\n",
        "        acak = angka.pop(random.randint(100,1000)) #merandom dari 100 sampai 999 dan menghapus dari elemen di list angka\n",
        "    elif digit == 2: #kondisi bersyarat if jika input variabel 'digit' = 2\n",
        "        acak = angka.pop(random.randint(10,100)) #merandom dari 10 sampai 99 dan menghapus dari elemen di list angka\n",
        "    elif digit == 1: #kondisi bersyarat if jika input variabel 'digit' = 1\n",
        "        acak = angka.pop(random.randint(1,10)) #merandom dari 1 sampai 9 dan menghapus dari elemen di list angka\n",
        "    \n",
        "while True:\n",
        "    tebakan = input('Masukkan '+'{}'.format(digit)+' digit angka : ') #input angka yanng ditebak\n",
        "    percobaan = percobaan + 1 #variabel 'percobaan' bertambah 1 selama loop berjalan\n",
        "    batas_nyawa = batas_nyawa - 1 #variabel 'batas_nyawa' berkurang 1 selama loop berjalan\n",
        "    benar = 0 #inisialisasi variabel jumlah angka yang 'benar'\n",
        "    for i in tebakan: #for loop untuk memeriksa tebakan\n",
        "        if i in acak: #angka i berada di variabel 'acak'\n",
        "            benar = benar + 1 #'benar' bertambah jika terdapat angka 'tebakan' yang berada di variabel 'acak'\n",
        "    posisi = 0 #inisialisasi variabel 'posisi' angka yang benar\n",
        "    for i in range(digit):\n",
        "        if tebakan[i] == acak[i]: #letak elemen pada variabel 'tebakan' sama dengan letak elemen pada variabel 'acak'\n",
        "            posisi = posisi + 1 #'posisi' bertambah jika terdapat letak elemen 'tebakan' yang benar\n",
        "    print(benar, 'angka benar,', posisi, 'angka di posisi yang benar')\n",
        "    print('Sisa nyawa: ',batas_nyawa)\n",
        "    print(' ')\n",
        "    if tebakan == acak: #kondisi bersyarat 'tebakan' sudah benar sama dengan variabel 'acak'\n",
        "        print('Selamat tebakanmu benar!')\n",
        "        print('Kamu selesai dalam', percobaan, \"percobaan\")\n",
        "        break #keluar dari loop supaya tidak terjadi forever loop\n",
        "    if batas_nyawa == 0: #kesempatan menebak telah habis\n",
        "        print('Kesempatan Anda telah habis :(')\n",
        "        break #keluar dari loop supaya tidak terjadi forever loop"
      ]
    },
    {
      "cell_type": "code",
      "execution_count": null,
      "metadata": {
        "id": "eQ3DErr4tlSd"
      },
      "outputs": [],
      "source": []
    }
  ],
  "metadata": {
    "kernelspec": {
      "display_name": "Python 3",
      "language": "python",
      "name": "python3"
    },
    "language_info": {
      "codemirror_mode": {
        "name": "ipython",
        "version": 3
      },
      "file_extension": ".py",
      "mimetype": "text/x-python",
      "name": "python",
      "nbconvert_exporter": "python",
      "pygments_lexer": "ipython3",
      "version": "3.8.3"
    },
    "colab": {
      "provenance": []
    }
  },
  "nbformat": 4,
  "nbformat_minor": 0
}