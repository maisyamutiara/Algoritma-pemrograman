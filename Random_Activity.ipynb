{
  "cells": [
    {
      "cell_type": "markdown",
      "metadata": {
        "id": "QvMHvyehtUAI"
      },
      "source": [
        "Program ini adalah program untuk melakukan aktivitas secara acak untuk mencari rata-rata hari yang dibutuhkan dari banyaknya percobaan.\n",
        "Idenya adalah meminta angka 1-3 secara acak dari module random, dimana.\n",
        "1. Jika angka acak yang keluar adalah angka 1, maka makan 1 salak.\n",
        "2. Jika angka acak yang keluar bukan 1 maka dapat dilakukan salah satu dari 2 aktivitas berikut.\n",
        "a. Tersisa k salak, jika k bilangan genap, maka makan [k/4] buah salak.\n",
        "b. Tersisa k salak, jika k bilangan genap, maka makan [k/5]+1 buah salak.\n",
        "\n",
        "Aktivitas di atas terus dilakukan hingga n buah salak habis. Selanjutnya percobaan ini dilakukan sebanyak m kali, sehingga dapat dicari rata-rata hari yang dibutuhkan untuk menghabiskan n buah salak dari m kali percobaan. Program dapat menampilkan proses percobaan jika argumen p berupa angka 2.\n",
        "Algoritmanya:\n",
        "1. Membuat fungsi 'makansalak' dengan argumen (n,m,p).\n",
        "2. Membuat list kosong 'percobaan' yang akan diisi elemen berupa banyaknya hari melakukan satu percobaan.\n",
        "3. Looping sebanyak m kali percobaan.\n",
        "4. Gunakan kondisi bersyarat if, untuk argumen p selain 2 return nilai variabel 'rata_rata' yang merupakan penjumlahan elemen-elemen dalam list 'percobaan' dibagi panjang list 'percobaan'. Jika argumen p = 2, program dilanjutkan.\n",
        "5. Looping sebanyak n buah salak.\n",
        "6. Membuat variabel 'aktivitas' dengan syntax randint() untuk mengacak angka, pada program ini digunakan random angka (1,3) supaya 2 aktivitas memiliki probabilitas yang sama.\n",
        "7. Gunakan kondisi bersyarat if, untuk angka random yang dimuat pada variabel 'aktivitas' = 1, print 'makan 1 salak'\n",
        "8. Jumlah salak yang tersisa dalam variabel 'k' dikurang 1.\n",
        "9. Jika angka random yang dimuat pada variabel 'aktivitas' selain 1, gunakan lagi kondisi bersyarat if untuk memeriksa apakah k bilangan genap atau ganjil.\n",
        "10. Jika k modulo 2 = 0 maka k adalah bilangan genap, print 'makan [k/4] salak'\n",
        "11. Jika k modulo 2 bukan 0 maka k adalah bilangan ganjil, print 'makan [k/5]+1 salak'\n",
        "12. Jumlah salak yang tersisa dalam variabel 'k' dikurang berdasarkan banyaknya salak yang dimakan.\n",
        "13. Input elemen banyaknya hari ke list 'percobaan'.\n",
        "14. Return nilai yang dihasilkan variabel 'rata_rata'."
      ]
    },
    {
      "cell_type": "code",
      "execution_count": null,
      "metadata": {
        "id": "nmStQpUZtUAP"
      },
      "outputs": [],
      "source": [
        "import numpy as np #memanggil module numpy untuk array\n",
        "import random #memanggil module random untuk meminta angka secara acak\n",
        "\n",
        "def makansalak(n,m,p): #mendefinisikan fungsi untuk argumen berupa (banyak salak, banyak percobaan, opsi menampilkan)\n",
        "    percobaan = [] #list kosong yang akan diinput banyaknya hari menghabiskan salak di tiap-tiap percobaan\n",
        "    \n",
        "    for i in range(m): #for loop banyaknya percobaan\n",
        "        k = n\n",
        "        if p == 2: #opsi menampilkan proses percobaan\n",
        "            print(' ')\n",
        "            print('Percobaan ' + '{}'.format(i+1)+':')\n",
        "            print('-------------')\n",
        "        for j in range (n): #for loop banyaknya salak yang dimiliki\n",
        "            aktivitas = np.random.randint(1,3) #merandom angka dari 1 sampai sebelum angka 3 (2)\n",
        "            if k != 0: #loop hingga salak yang tersisa 0 atau habis\n",
        "                if aktivitas == 1: #makan 1 salak\n",
        "                    if p == 2: #opsi menampilkan proses percobaan\n",
        "                        print('Hari ' + '{}'.format(j+1) + ': Makan 1 salak')\n",
        "                    k = k-1 #salak yang tersisa berkurang 1\n",
        "                else:\n",
        "                    if k % 2 == 0: #modulo (sisa bagi) k/2 = 0 maka k adalah bilangan genap\n",
        "                        if p == 2: #opsi menampilkan proses percobaan\n",
        "                            print('Hari '+ '{}'.format(j+1) + ': Makan ' + '{}'.format(int(np.floor(k/4)))+ ' salak')\n",
        "                            #np.floor(k/4) berfungsi membulatkan ke bawah hasil pembagian k/4\n",
        "                        k = k-(np.floor(k/4))\n",
        "                    else: #k adalah bilangan ganjil\n",
        "                        if p == 2: #opsi menampilkan proses percobaan\n",
        "                            print('Hari '+ '{}'.format(j+1) + ': Makan ' + '{}'.format(int(np.floor(k/5)+1))+ ' salak')\n",
        "                            #np.floor(k/5)+1 berfungsi membulatkan ke bawah hasil pembagian (k/5)+1\n",
        "                        k = k-(np.floor(k/5)+1) \n",
        "            else:\n",
        "                percobaan.append(j) #menambahkan elemen berupa banyaknya hari ke list percobaan\n",
        "                break\n",
        "        rata_rata = sum(percobaan)/len(percobaan) #mencari nilai rata-rata hari n salak dari m percobaan\n",
        "        #sum(percobaan) = jumlahan elemen list percobaan (total hari)\n",
        "        #len(percobaan) = panjang list (banyaknya percobaan)\n",
        "    return 'Rata-rata hari: ' + '{}'.format(rata_rata) +' hari'"
      ]
    },
    {
      "cell_type": "code",
      "execution_count": null,
      "metadata": {
        "id": "hlYaTNOGtUAU",
        "outputId": "d5b5b3d5-7895-474c-f9fc-e15d00682e88"
      },
      "outputs": [
        {
          "name": "stdout",
          "output_type": "stream",
          "text": [
            " \n",
            "Percobaan 1:\n",
            "-------------\n",
            "Hari 1: Makan 5 salak\n",
            "Hari 2: Makan 1 salak\n",
            "Hari 3: Makan 3 salak\n",
            "Hari 4: Makan 1 salak\n",
            "Hari 5: Makan 1 salak\n",
            "Hari 6: Makan 2 salak\n",
            "Hari 7: Makan 2 salak\n",
            "Hari 8: Makan 2 salak\n",
            "Hari 9: Makan 1 salak\n",
            "Hari 10: Makan 0 salak\n",
            "Hari 11: Makan 0 salak\n",
            "Hari 12: Makan 1 salak\n",
            "Hari 13: Makan 1 salak\n",
            " \n",
            "Percobaan 2:\n",
            "-------------\n",
            "Hari 1: Makan 5 salak\n",
            "Hari 2: Makan 4 salak\n",
            "Hari 3: Makan 1 salak\n",
            "Hari 4: Makan 2 salak\n",
            "Hari 5: Makan 1 salak\n",
            "Hari 6: Makan 2 salak\n",
            "Hari 7: Makan 1 salak\n",
            "Hari 8: Makan 1 salak\n",
            "Hari 9: Makan 1 salak\n",
            "Hari 10: Makan 1 salak\n",
            "Hari 11: Makan 1 salak\n"
          ]
        },
        {
          "data": {
            "text/plain": [
              "'Rata-rata hari: 12.0 hari'"
            ]
          },
          "execution_count": 5,
          "metadata": {},
          "output_type": "execute_result"
        }
      ],
      "source": [
        "makansalak(20,2,2)"
      ]
    },
    {
      "cell_type": "code",
      "execution_count": null,
      "metadata": {
        "id": "Xo2u6xT2tUAW",
        "outputId": "cbb5eda4-af54-4bec-8a36-509476f0a6cf"
      },
      "outputs": [
        {
          "data": {
            "text/plain": [
              "'Rata-rata hari: 42.36 hari'"
            ]
          },
          "execution_count": 6,
          "metadata": {},
          "output_type": "execute_result"
        }
      ],
      "source": [
        "makansalak(1000,1000,1)"
      ]
    }
  ],
  "metadata": {
    "kernelspec": {
      "display_name": "Python 3",
      "language": "python",
      "name": "python3"
    },
    "language_info": {
      "codemirror_mode": {
        "name": "ipython",
        "version": 3
      },
      "file_extension": ".py",
      "mimetype": "text/x-python",
      "name": "python",
      "nbconvert_exporter": "python",
      "pygments_lexer": "ipython3",
      "version": "3.8.3"
    },
    "colab": {
      "provenance": []
    }
  },
  "nbformat": 4,
  "nbformat_minor": 0
}