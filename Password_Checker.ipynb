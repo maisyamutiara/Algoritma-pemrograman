{
  "cells": [
    {
      "cell_type": "markdown",
      "metadata": {
        "id": "mugR_94aYu29"
      },
      "source": [
        "Program ini adalah program untuk memeriksa kekuatan suatu password.\n",
        "Idenya adalah menginput suatu password, lalu memeriksa apakah password sudah memenuhi semua syarat. Suatu password dikatakan kuat apabila sudah memenuhi semua syarat. Dan program akan memberitahu syarat yang belum terpenuhi apabila password belum cukup kuat.\n",
        "Algoritmanya:\n",
        "1. Membuat fungsi passwordchecker yang memiliki input password yang akan diperiksa.\n",
        "2. Membuat list kosong yang akan diisi nomor syarat yang tidak terpenuhi.\n",
        "3. Memeriksa argumen password apakah sesuai dengan syarat menggunakan while loop.\n",
        "3. Menggunakan kondisi bersyarat if dan boolean untuk menentukan output list yang dihasilkan.\n",
        "4. Return 0, jika semua syarat terpenuhi yaitu password sudah kuat.\n",
        "5. Print list t (1, syarat yang tidak terpenuhi) jika password belum kuat."
      ]
    },
    {
      "cell_type": "code",
      "execution_count": null,
      "metadata": {
        "id": "hXQd3vSXYu3D"
      },
      "outputs": [],
      "source": [
        "import re #menggunakan module regular expression untuk memeriksa apakah password sudah memenuhi syarat\n",
        "\n",
        "def passwordchecker(password): #mendefinisikan fungsi untuk argumen password yang ingin diperiksa\n",
        "    t = [] #list kosong t yang akan diinput .append() jika terdapat syarat yang tidak terpenuhi\n",
        "    while True:\n",
        "        long = len(password) > 8 and len(password) < 32 #syarat 1 panjang password kurang 8-32 karakter\n",
        "        upper = re.search(r\"[A-Z]\",password) #syarat 2 mencari apakah input mengandung elemen yang berisi huruf kapital\n",
        "        lower = re.search(r\"[a-z]\",password) #syarat 3 mencari apakah input mengandung elemen yang berisi huruf kecil\n",
        "        number = re.search(r\"[0-9]\",password) #syarat 4 mencari apakah input mengandung elemen yang berisi angka\n",
        "        character = re.search(r\"(.)\\1{2}\",password) #syarat 5 input mengandung paling banyak 2 karakter berurutan yang sama\n",
        "        \n",
        "        if long and upper and lower and number and not character:\n",
        "            return 0 #memberi nilai 0 jika password sudah kuat\n",
        "            break\n",
        "        if not long:\n",
        "            t.append(1) #menambahkan elemen berupa angka 1 ke list t jika syarat 1 tidak terpenuhi\n",
        "        if not upper:\n",
        "            t.append(2) #menambahkan elemen berupa angka 2 ke list t jika syarat 2 tidak terpenuhi\n",
        "        if not lower:\n",
        "            t.append(3) #menambahkan elemen berupa angka 3 ke list t jika syarat 3 tidak terpenuhi\n",
        "        if not number:\n",
        "            t.append(4) #menambahkan elemen berupa angka 4 ke list t jika syarat 4 tidak terpenuhi\n",
        "        if character:\n",
        "            t.append(5) #menambahkan elemen berupa angka 5 ke list t jika syarat 5 tidak terpenuhi\n",
        "        \n",
        "        print('(1, '+'{}'.format(t)+')') #mencetak list t yang berisi angka 1 dan nomor syarat yang tidak terpenuhi\n",
        "        t.clear\n",
        "        break #keluar dari loop supaya tidak terjadi forever loop"
      ]
    },
    {
      "cell_type": "code",
      "execution_count": null,
      "metadata": {
        "id": "S4fl1u3nYu3G",
        "outputId": "8e3ea094-e7f6-4d29-de90-3e98d539e081"
      },
      "outputs": [
        {
          "data": {
            "text/plain": [
              "0"
            ]
          },
          "execution_count": 7,
          "metadata": {},
          "output_type": "execute_result"
        }
      ],
      "source": [
        "#password sudah kuat\n",
        "passwordchecker(\"ABCD226110b\")"
      ]
    },
    {
      "cell_type": "code",
      "execution_count": null,
      "metadata": {
        "id": "CyyaZ8H-Yu3I",
        "outputId": "758313ae-2629-465f-eb90-b91481aabad8"
      },
      "outputs": [
        {
          "name": "stdout",
          "output_type": "stream",
          "text": [
            "(1, [2])\n"
          ]
        }
      ],
      "source": [
        "#tidak mengandung huruf kapital\n",
        "passwordchecker(\"abcd226110b\")"
      ]
    },
    {
      "cell_type": "code",
      "execution_count": null,
      "metadata": {
        "id": "iPAdkOSdYu3J",
        "outputId": "a0caedf5-791a-402e-cfb6-e580d89b1bdd"
      },
      "outputs": [
        {
          "name": "stdout",
          "output_type": "stream",
          "text": [
            "(1, [3])\n"
          ]
        }
      ],
      "source": [
        "#tidak mengandung huruf kecil\n",
        "passwordchecker(\"ABCD226110A\")"
      ]
    },
    {
      "cell_type": "code",
      "execution_count": null,
      "metadata": {
        "id": "ecRy4GYqYu3K",
        "outputId": "62d52ad6-1469-49b7-865d-d14837b03452"
      },
      "outputs": [
        {
          "name": "stdout",
          "output_type": "stream",
          "text": [
            "(1, [2, 3, 5])\n"
          ]
        }
      ],
      "source": [
        "#tidak mengandung huruf\n",
        "#mengandung 3 karakter berurutan yang sama\n",
        "passwordchecker(\"222110369\")"
      ]
    },
    {
      "cell_type": "code",
      "execution_count": null,
      "metadata": {
        "id": "kYG5MogqYu3K"
      },
      "outputs": [],
      "source": []
    }
  ],
  "metadata": {
    "kernelspec": {
      "display_name": "Python 3",
      "language": "python",
      "name": "python3"
    },
    "language_info": {
      "codemirror_mode": {
        "name": "ipython",
        "version": 3
      },
      "file_extension": ".py",
      "mimetype": "text/x-python",
      "name": "python",
      "nbconvert_exporter": "python",
      "pygments_lexer": "ipython3",
      "version": "3.8.3"
    },
    "colab": {
      "provenance": []
    }
  },
  "nbformat": 4,
  "nbformat_minor": 0
}